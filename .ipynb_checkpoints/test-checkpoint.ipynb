{
 "cells": [
  {
   "cell_type": "code",
   "execution_count": 131,
   "metadata": {
    "collapsed": true
   },
   "outputs": [],
   "source": [
    "from Nim.agents import *\n",
    "from random import uniform\n",
    "%matplotlib inline\n",
    "from matplotlib import rcParams # you need to alter rcParams after magic command \"%matplotlib inline\"\n",
    "rcParams['figure.figsize'] = (12, 6) # set default figure size\n",
    "rcParams['figure.facecolor'] = 'w'"
   ]
  },
  {
   "cell_type": "code",
   "execution_count": 132,
   "metadata": {
    "pycharm": {
     "name": "#%%\n"
    }
   },
   "outputs": [],
   "source": [
    "def test(alp, heaps):\n",
    "    games = []\n",
    "    for i in range(1):\n",
    "        games.append(0)\n",
    "        Qagent = QLearningAgent(\"Q Learning Agents/Varied Education Level\", 'RandomAgent', heaps, 5, alp, 1, 0.05, True)\n",
    "        while Qagent.test_accuracy() != 1:\n",
    "            if uniform(0, 1) < 1/1000:\n",
    "                print(alp, games, Qagent.test_accuracy())\n",
    "            if games[-1] < 100:\n",
    "                Qagent.train(1, 100)\n",
    "                games[-1] += 1\n",
    "            else:\n",
    "                Qagent.train(10,100)\n",
    "                games[-1] += 10\n",
    "\n",
    "    return sorted(games)[0]\n",
    "\n",
    "def find_alp(heaps):\n",
    "    best_games = 10**6\n",
    "    best_alp = 0\n",
    "    alp = 1.5**-20\n",
    "\n",
    "    while alp <= 1:\n",
    "        alp *= 1.5\n",
    "        games = test(alp, heaps)\n",
    "\n",
    "        print(alp, games)\n",
    "\n",
    "        if games < best_games:\n",
    "            best_games = games\n",
    "            best_alp = alp\n",
    "\n",
    "    return best_alp, best_games"
   ]
  },
  {
   "cell_type": "code",
   "execution_count": 133,
   "metadata": {
    "pycharm": {
     "name": "#%%\n"
    }
   },
   "outputs": [],
   "source": [
    "def test2(alp, heaps):\n",
    "    games = 0\n",
    "    Qagent = QLearningAgent(\"Q Learning Agents/Varied Education Level\", 'OptimalAgent', heaps, 5, alp, 1, 0.05, True)\n",
    "\n",
    "    # make new entry\n",
    "    while True:\n",
    "        cur_games = games\n",
    "        if cur_games <= 100 or random.randint(1, cur_games) <= cur_games//100:\n",
    "            if random.uniform(0, 1) < 0.01:\n",
    "                # print(games, Qagent.test_accuracy())\n",
    "                pass\n",
    "            if Qagent.test_accuracy() == 1:\n",
    "                break\n",
    "\n",
    "        # find random opponent to train with\n",
    "        if random.randint(1, 100) <= 1:\n",
    "            Qagent.set_train_opponent(\"OptimalAgent\")\n",
    "        else:\n",
    "            Qagent.set_train_opponent('ReverseOptimalAgent')\n",
    "\n",
    "        # train\n",
    "        Qagent.train(1, 1000) # saving is slow, so we don't save (make parameters: game > train_games)\n",
    "        games += 1\n",
    "\n",
    "    return games"
   ]
  },
  {
   "cell_type": "code",
   "execution_count": 134,
   "metadata": {
    "pycharm": {
     "name": "#%%\n"
    }
   },
   "outputs": [
    {
     "name": "stdout",
     "output_type": "stream",
     "text": [
      "0.1 253781.2\n",
      "0.2 140458.7\n",
      "0.3 80131.5\n",
      "0.4 88670.2\n",
      "0.5 65986.4\n",
      "0.6 61688.5\n",
      "0.7 60241.2\n",
      "0.8 56040.7\n",
      "0.9 50839.2\n"
     ]
    }
   ],
   "source": [
    "for alp in range(1, 10):\n",
    "    amt = 0\n",
    "    for i in range(10):\n",
    "        amt += test2(alp/10, 2)\n",
    "    print(alp/10, amt/10)"
   ]
  },
  {
   "cell_type": "code",
   "execution_count": null,
   "metadata": {
    "pycharm": {
     "is_executing": true,
     "name": "#%%\n"
    }
   },
   "outputs": [],
   "source": [
    "amt = 0\n",
    "for i in range(10):\n",
    "    amt += test2(alp/10, 3)\n",
    "print(alp/10, amt)"
   ]
  },
  {
   "cell_type": "code",
   "execution_count": null,
   "metadata": {
    "pycharm": {
     "name": "#%%\n"
    }
   },
   "outputs": [],
   "source": []
  }
 ],
 "metadata": {
  "kernelspec": {
   "display_name": "Python 3 (ipykernel)",
   "language": "python",
   "name": "python3"
  },
  "language_info": {
   "codemirror_mode": {
    "name": "ipython",
    "version": 3
   },
   "file_extension": ".py",
   "mimetype": "text/x-python",
   "name": "python",
   "nbconvert_exporter": "python",
   "pygments_lexer": "ipython3",
   "version": "3.8.4"
  }
 },
 "nbformat": 4,
 "nbformat_minor": 1
}
