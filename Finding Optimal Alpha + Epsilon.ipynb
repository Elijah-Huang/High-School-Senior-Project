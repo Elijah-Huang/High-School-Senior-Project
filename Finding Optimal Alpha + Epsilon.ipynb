{
 "cells": [
  {
   "cell_type": "code",
   "execution_count": 136,
   "metadata": {
    "collapsed": true
   },
   "outputs": [],
   "source": [
    "from Nim.agents import *\n",
    "from random import uniform\n",
    "%matplotlib inline\n",
    "from matplotlib import rcParams # you need to alter rcParams after magic command \"%matplotlib inline\"\n",
    "rcParams['figure.figsize'] = (12, 6) # set default figure size\n",
    "rcParams['figure.facecolor'] = 'w'"
   ]
  },
  {
   "cell_type": "code",
   "execution_count": 166,
   "metadata": {
    "pycharm": {
     "name": "#%%\n"
    }
   },
   "outputs": [],
   "source": [
    "def test(alp, heaps):\n",
    "    games = []\n",
    "    for i in range(1):\n",
    "        games.append(0)\n",
    "        Qagent = QLearningAgent(\"Q Learning Agents/Varied Education Level\", 'RandomAgent', heaps, 5, alp, 1, 0.05, True)\n",
    "        while Qagent.test_accuracy() != 1:\n",
    "            if uniform(0, 1) < 1/1000:\n",
    "                print(alp, games, Qagent.test_accuracy())\n",
    "            if games[-1] < 100:\n",
    "                Qagent.train(1, 100)\n",
    "                games[-1] += 1\n",
    "            else:\n",
    "                Qagent.train(10,100)\n",
    "                games[-1] += 10\n",
    "\n",
    "    return sorted(games)[0]\n",
    "\n",
    "def find_alp(heaps):\n",
    "    best_games = 10**6\n",
    "    best_alp = 0\n",
    "    alp = 1.5**-20\n",
    "\n",
    "    while alp <= 1:\n",
    "        alp *= 1.5\n",
    "        games = test(alp, heaps)\n",
    "\n",
    "        print(alp, games)\n",
    "\n",
    "        if games < best_games:\n",
    "            best_games = games\n",
    "            best_alp = alp\n",
    "\n",
    "    return best_alp, best_games"
   ]
  },
  {
   "cell_type": "code",
   "execution_count": 197,
   "metadata": {
    "pycharm": {
     "name": "#%%\n"
    }
   },
   "outputs": [],
   "source": [
    "def test2(alp, heaps):\n",
    "    games = 0\n",
    "    Qagent = QLearningAgent(\"Q Learning Agents/Varied Education Level\", 'OptimalAgent', heaps, 5, alp, 1, 0.1, True)\n",
    "\n",
    "    # make new entry\n",
    "    while Qagent.test_accuracy() != 1:\n",
    "        if random.uniform(0, 1) < 0.001:\n",
    "            print(games, Qagent.test_accuracy())\n",
    "\n",
    "        for game in range(max(1, games//100)):\n",
    "            # find random opponent to train with\n",
    "            if random.randint(1, 100) <= 1:\n",
    "                Qagent.set_train_opponent(\"OptimalAgent\")\n",
    "            else:\n",
    "                Qagent.set_train_opponent('ReverseOptimalAgent')\n",
    "\n",
    "            # train\n",
    "            Qagent.train(1, 1000) # saving is slow, so we don't save (make parameters: game > train_games)\n",
    "            games += 1\n",
    "\n",
    "    return games"
   ]
  },
  {
   "cell_type": "code",
   "execution_count": 191,
   "metadata": {
    "pycharm": {
     "name": "#%%\n"
    }
   },
   "outputs": [
    {
     "name": "stdout",
     "output_type": "stream",
     "text": [
      "1970 0.5\n",
      "65 0.5\n",
      "1859 0.45\n"
     ]
    },
    {
     "ename": "KeyboardInterrupt",
     "evalue": "",
     "output_type": "error",
     "traceback": [
      "\u001B[1;31m---------------------------------------------------------------------------\u001B[0m",
      "\u001B[1;31mKeyboardInterrupt\u001B[0m                         Traceback (most recent call last)",
      "Input \u001B[1;32mIn [191]\u001B[0m, in \u001B[0;36m<cell line: 1>\u001B[1;34m()\u001B[0m\n\u001B[0;32m      2\u001B[0m amt \u001B[38;5;241m=\u001B[39m \u001B[38;5;241m0\u001B[39m\n\u001B[0;32m      3\u001B[0m \u001B[38;5;28;01mfor\u001B[39;00m i \u001B[38;5;129;01min\u001B[39;00m \u001B[38;5;28mrange\u001B[39m(\u001B[38;5;241m10\u001B[39m):\n\u001B[1;32m----> 4\u001B[0m     amt \u001B[38;5;241m+\u001B[39m\u001B[38;5;241m=\u001B[39m \u001B[43mtest2\u001B[49m\u001B[43m(\u001B[49m\u001B[43malp\u001B[49m\u001B[38;5;241;43m/\u001B[39;49m\u001B[38;5;241;43m10\u001B[39;49m\u001B[43m,\u001B[49m\u001B[43m \u001B[49m\u001B[38;5;241;43m2\u001B[39;49m\u001B[43m)\u001B[49m\n\u001B[0;32m      5\u001B[0m \u001B[38;5;28mprint\u001B[39m(alp\u001B[38;5;241m/\u001B[39m\u001B[38;5;241m10\u001B[39m, amt\u001B[38;5;241m/\u001B[39m\u001B[38;5;241m10\u001B[39m)\n",
      "Input \u001B[1;32mIn [190]\u001B[0m, in \u001B[0;36mtest2\u001B[1;34m(alp, heaps)\u001B[0m\n\u001B[0;32m     13\u001B[0m     Qagent\u001B[38;5;241m.\u001B[39mset_train_opponent(\u001B[38;5;124m\"\u001B[39m\u001B[38;5;124mOptimalAgent\u001B[39m\u001B[38;5;124m\"\u001B[39m)\n\u001B[0;32m     14\u001B[0m \u001B[38;5;28;01melse\u001B[39;00m:\n\u001B[1;32m---> 15\u001B[0m     \u001B[43mQagent\u001B[49m\u001B[38;5;241;43m.\u001B[39;49m\u001B[43mset_train_opponent\u001B[49m\u001B[43m(\u001B[49m\u001B[38;5;124;43m'\u001B[39;49m\u001B[38;5;124;43mReverseOptimalAgent\u001B[39;49m\u001B[38;5;124;43m'\u001B[39;49m\u001B[43m)\u001B[49m\n\u001B[0;32m     17\u001B[0m \u001B[38;5;66;03m# train\u001B[39;00m\n\u001B[0;32m     18\u001B[0m Qagent\u001B[38;5;241m.\u001B[39mtrain(\u001B[38;5;241m1\u001B[39m, \u001B[38;5;241m1000\u001B[39m) \u001B[38;5;66;03m# saving is slow, so we don't save (make parameters: game > train_games)\u001B[39;00m\n",
      "File \u001B[1;32m~\\Desktop\\CODING\\High-School-Senior-Project\\Nim\\agents.py:569\u001B[0m, in \u001B[0;36mQLearningAgent.set_train_opponent\u001B[1;34m(self, opponent_name)\u001B[0m\n\u001B[0;32m    567\u001B[0m     \u001B[38;5;28mself\u001B[39m\u001B[38;5;241m.\u001B[39mtrain_opponent \u001B[38;5;241m=\u001B[39m \u001B[38;5;28mself\u001B[39m\n\u001B[0;32m    568\u001B[0m \u001B[38;5;28;01melse\u001B[39;00m:\n\u001B[1;32m--> 569\u001B[0m     \u001B[38;5;28mself\u001B[39m\u001B[38;5;241m.\u001B[39mtrain_opponent \u001B[38;5;241m=\u001B[39m \u001B[38;5;28;43meval\u001B[39;49m\u001B[43m(\u001B[49m\u001B[38;5;28;43mself\u001B[39;49m\u001B[38;5;241;43m.\u001B[39;49m\u001B[43mtrain_opponent_name\u001B[49m\u001B[43m)\u001B[49m()\n",
      "File \u001B[1;32m<string>:1\u001B[0m, in \u001B[0;36m<module>\u001B[1;34m\u001B[0m\n",
      "\u001B[1;31mKeyboardInterrupt\u001B[0m: "
     ]
    }
   ],
   "source": [
    "for alp in range(1, 10):\n",
    "    amt = 0\n",
    "    for i in range(10):\n",
    "        amt += test2(alp/10, 2)\n",
    "    print(alp/10, amt/10)"
   ]
  },
  {
   "cell_type": "code",
   "execution_count": 151,
   "outputs": [
    {
     "name": "stdout",
     "output_type": "stream",
     "text": [
      "32424 0.6\n",
      "207389 0.8\n",
      "353343 0.8727272727272727\n",
      "359545 0.8545454545454545\n",
      "375407 0.8545454545454545\n",
      "545623 0.8909090909090909\n",
      "550255 0.8909090909090909\n",
      "570347 0.8909090909090909\n",
      "689965 0.8909090909090909\n",
      "787494 0.8909090909090909\n",
      "798765 0.9090909090909091\n",
      "865200 0.9272727272727272\n",
      "935035 0.9636363636363636\n",
      "947965 0.9818181818181818\n",
      "1036348 0.9454545454545454\n",
      "1064966 0.9454545454545454\n",
      "1113241 0.9636363636363636\n",
      "1129785 0.9636363636363636\n",
      "1212950 0.9636363636363636\n",
      "1220230 0.9818181818181818\n",
      "1224099 0.9818181818181818\n",
      "1402064 0.9636363636363636\n",
      "1500167 0.9454545454545454\n",
      "1534399 0.9818181818181818\n",
      "1696679 0.9636363636363636\n",
      "2207672 0.9636363636363636\n",
      "2263170 0.9818181818181818\n"
     ]
    },
    {
     "data": {
      "text/plain": "2345577"
     },
     "execution_count": 151,
     "metadata": {},
     "output_type": "execute_result"
    }
   ],
   "source": [
    "test2(0.4, 3) # eps = 0.05"
   ],
   "metadata": {
    "collapsed": false,
    "pycharm": {
     "name": "#%%\n"
    }
   }
  },
  {
   "cell_type": "code",
   "execution_count": 199,
   "outputs": [
    {
     "name": "stdout",
     "output_type": "stream",
     "text": [
      "1216 0.32727272727272727\n",
      "634828 0.9636363636363636\n"
     ]
    },
    {
     "data": {
      "text/plain": "1352264"
     },
     "execution_count": 199,
     "metadata": {},
     "output_type": "execute_result"
    }
   ],
   "source": [
    "test2(0.4, 3) # eps = 0.1"
   ],
   "metadata": {
    "collapsed": false,
    "pycharm": {
     "name": "#%%\n"
    }
   }
  }
 ],
 "metadata": {
  "kernelspec": {
   "display_name": "Python 3 (ipykernel)",
   "language": "python",
   "name": "python3"
  },
  "language_info": {
   "codemirror_mode": {
    "name": "ipython",
    "version": 3
   },
   "file_extension": ".py",
   "mimetype": "text/x-python",
   "name": "python",
   "nbconvert_exporter": "python",
   "pygments_lexer": "ipython3",
   "version": "3.8.4"
  }
 },
 "nbformat": 4,
 "nbformat_minor": 1
}